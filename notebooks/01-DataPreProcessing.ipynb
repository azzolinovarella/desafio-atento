{
 "cells": [
  {
   "cell_type": "markdown",
   "id": "523cc57a-b1fc-447f-b565-cbbf362bce4c",
   "metadata": {},
   "source": [
    "# 01 - Pré-processamento\n",
    "\n",
    "Neste notebook, buscaremos realizar um pré-processamento dos dados, incluindo um leve tratamento do texto (se necessário) e a definição da variável target (sentimento)."
   ]
  },
  {
   "cell_type": "markdown",
   "id": "ef0b96d4-0f2c-4641-aa18-bf1da8d4ac06",
   "metadata": {},
   "source": [
    "## Constantes"
   ]
  },
  {
   "cell_type": "code",
   "execution_count": 2,
   "id": "ca6ebfa6-44e5-4d63-b094-a956529ea5fa",
   "metadata": {},
   "outputs": [],
   "source": [
    "# Número de amostras geradas aleatoriamente para validarmos o texto\n",
    "N_SAMPLES = 5\n",
    "\n",
    "# Para validar o modelo em frases de controle\n",
    "TEXTS_EX = [\"This is terrific!\",  # 2 --> Positivo\n",
    "            \"To be honest, it's overrated\",  # 0 --> Negativo\n",
    "            \"Nothing special\"]  # 1 --> Neutro"
   ]
  },
  {
   "cell_type": "markdown",
   "id": "5823d2cd-2916-4415-baf5-8ea440aa835c",
   "metadata": {},
   "source": [
    "## Importações"
   ]
  },
  {
   "cell_type": "code",
   "execution_count": 3,
   "id": "7fedeff7-ffd0-4562-9e03-2c4fe1a46953",
   "metadata": {},
   "outputs": [],
   "source": [
    "import pandas as pd\n",
    "import numpy as np\n",
    "import pickle as pkl\n",
    "import re\n",
    "from tqdm.notebook import tqdm\n",
    "from transformers import AutoModelForSequenceClassification\n",
    "from transformers import AutoTokenizer\n",
    "from scipy.special import softmax"
   ]
  },
  {
   "cell_type": "markdown",
   "id": "4263d903-4e3b-4c3d-9851-224b69e2e85a",
   "metadata": {},
   "source": [
    "## Pré-execuções e configurações"
   ]
  },
  {
   "cell_type": "code",
   "execution_count": 4,
   "id": "cc101993-9500-40c5-8fd5-2bda4a4737e1",
   "metadata": {},
   "outputs": [],
   "source": [
    "pd.set_option(\"max_colwidth\", 125)  # Para conseguir ler os textos mais facilmente\n",
    "tqdm.pandas()  # Para aparecer a barra de progresso na hora da execução de apply e etc"
   ]
  },
  {
   "cell_type": "markdown",
   "id": "589564c7-0c0e-42df-9124-e9b3d4bd3fbb",
   "metadata": {},
   "source": [
    "## Execução"
   ]
  },
  {
   "cell_type": "markdown",
   "id": "14bba795-b233-4840-a063-8b2974cc39b2",
   "metadata": {},
   "source": [
    "### Leitura e validação dos dados"
   ]
  },
  {
   "cell_type": "markdown",
   "id": "bea702ff-cc83-4f93-95b0-c329750c731a",
   "metadata": {},
   "source": [
    "Inicialmente, vamos verificar os dados que temos disponíveis para, então, realizar o pré-processamento."
   ]
  },
  {
   "cell_type": "code",
   "execution_count": 5,
   "id": "7949e7e5-ede4-46d9-8210-3a440b811085",
   "metadata": {},
   "outputs": [
    {
     "name": "stdout",
     "output_type": "stream",
     "text": [
      "total 1,6M\n",
      "-rw-rw-r-- 1 felipe felipe   40 nov 23 13:11 classes_dict.pkl\n",
      "-rw-rw-r-- 1 felipe felipe 710K nov 21 17:13 dataset_train.csv\n",
      "-rw-rw-r-- 1 felipe felipe 645K nov 23 15:20 dataset_train_wclasses.csv\n",
      "-rw-rw-r-- 1 felipe felipe 180K nov 21 17:13 dataset_valid.csv\n"
     ]
    }
   ],
   "source": [
    "! ls -lh ../data"
   ]
  },
  {
   "cell_type": "code",
   "execution_count": 6,
   "id": "7b85c53f-bbc6-48e6-8413-926f0a8187df",
   "metadata": {},
   "outputs": [
    {
     "name": "stdout",
     "output_type": "stream",
     "text": [
      "|input\n",
      "0|judging from previous posts this used to be a good place , but not any longer .\n",
      "1|we , there were four of us , arrived at noon - the place was empty - and the staff acted like we were imposing on them and they were very rude .\n",
      "2|they never brought us complimentary noodles , ignored repeated requests for sugar , and threw our dishes on the table .\n",
      "3|the food was lousy - too sweet or too salty and the portions tiny .\n"
     ]
    }
   ],
   "source": [
    "! head -n 5 ../data/dataset_train.csv"
   ]
  },
  {
   "cell_type": "code",
   "execution_count": 7,
   "id": "44ce088a-99ab-4059-b193-2467ecaa2358",
   "metadata": {},
   "outputs": [
    {
     "data": {
      "text/html": [
       "<div>\n",
       "<style scoped>\n",
       "    .dataframe tbody tr th:only-of-type {\n",
       "        vertical-align: middle;\n",
       "    }\n",
       "\n",
       "    .dataframe tbody tr th {\n",
       "        vertical-align: top;\n",
       "    }\n",
       "\n",
       "    .dataframe thead th {\n",
       "        text-align: right;\n",
       "    }\n",
       "</style>\n",
       "<table border=\"1\" class=\"dataframe\">\n",
       "  <thead>\n",
       "    <tr style=\"text-align: right;\">\n",
       "      <th></th>\n",
       "      <th>input</th>\n",
       "    </tr>\n",
       "  </thead>\n",
       "  <tbody>\n",
       "    <tr>\n",
       "      <th>0</th>\n",
       "      <td>judging from previous posts this used to be a good place , but not any longer .</td>\n",
       "    </tr>\n",
       "    <tr>\n",
       "      <th>1</th>\n",
       "      <td>we , there were four of us , arrived at noon - the place was empty - and the staff acted like we were imposing on them an...</td>\n",
       "    </tr>\n",
       "    <tr>\n",
       "      <th>2</th>\n",
       "      <td>they never brought us complimentary noodles , ignored repeated requests for sugar , and threw our dishes on the table .</td>\n",
       "    </tr>\n",
       "    <tr>\n",
       "      <th>3</th>\n",
       "      <td>the food was lousy - too sweet or too salty and the portions tiny .</td>\n",
       "    </tr>\n",
       "    <tr>\n",
       "      <th>4</th>\n",
       "      <td>after all that , they complained to me about the small tip .</td>\n",
       "    </tr>\n",
       "    <tr>\n",
       "      <th>...</th>\n",
       "      <td>...</td>\n",
       "    </tr>\n",
       "    <tr>\n",
       "      <th>8860</th>\n",
       "      <td>Outstanding Bagels , but you get what you pay for .</td>\n",
       "    </tr>\n",
       "    <tr>\n",
       "      <th>8861</th>\n",
       "      <td>The sides were ok and incredibly salty .</td>\n",
       "    </tr>\n",
       "    <tr>\n",
       "      <th>8862</th>\n",
       "      <td>While the menu is n't especially groundbreaking , everything I 've tried so far has been well-executed and tasty .</td>\n",
       "    </tr>\n",
       "    <tr>\n",
       "      <th>8863</th>\n",
       "      <td>It 's just O.K . pizza .</td>\n",
       "    </tr>\n",
       "    <tr>\n",
       "      <th>8864</th>\n",
       "      <td>But the coconut rice was good .</td>\n",
       "    </tr>\n",
       "  </tbody>\n",
       "</table>\n",
       "<p>8865 rows × 1 columns</p>\n",
       "</div>"
      ],
      "text/plain": [
       "                                                                                                                             input\n",
       "0                                                  judging from previous posts this used to be a good place , but not any longer .\n",
       "1     we , there were four of us , arrived at noon - the place was empty - and the staff acted like we were imposing on them an...\n",
       "2          they never brought us complimentary noodles , ignored repeated requests for sugar , and threw our dishes on the table .\n",
       "3                                                              the food was lousy - too sweet or too salty and the portions tiny .\n",
       "4                                                                     after all that , they complained to me about the small tip .\n",
       "...                                                                                                                            ...\n",
       "8860                                                                           Outstanding Bagels , but you get what you pay for .\n",
       "8861                                                                                      The sides were ok and incredibly salty .\n",
       "8862            While the menu is n't especially groundbreaking , everything I 've tried so far has been well-executed and tasty .\n",
       "8863                                                                                                      It 's just O.K . pizza .\n",
       "8864                                                                                               But the coconut rice was good .\n",
       "\n",
       "[8865 rows x 1 columns]"
      ]
     },
     "execution_count": 7,
     "metadata": {},
     "output_type": "execute_result"
    }
   ],
   "source": [
    "df_train = pd.read_csv('../data/dataset_train.csv', sep='|', usecols=[1])\n",
    "df_val = pd.read_csv('../data/dataset_valid.csv', sep='|', usecols=[1])\n",
    "\n",
    "df_train"
   ]
  },
  {
   "cell_type": "markdown",
   "id": "139d37c4-26a3-4e56-b3b3-00470372271d",
   "metadata": {},
   "source": [
    "Como a base de dados é relativamente grande, vamos selecionar aleatoriamente N_SAMPLES (definido na seção \"Constantes\") amostras e vamos verificar se há alguma incoerência com o texto. Se necessário, podemos reexecutar a célula quantas vezes forem necessárias."
   ]
  },
  {
   "cell_type": "code",
   "execution_count": 7,
   "id": "013536ab-fa20-48ef-a77e-108f417f0cea",
   "metadata": {},
   "outputs": [
    {
     "name": "stdout",
     "output_type": "stream",
     "text": [
      "--> Needless to say a PC that ca n't support a cell phone is less than useless !\n",
      "\n",
      "--> The worse Hotel In Miami South Beach\n",
      "\n",
      "--> To this day , there are NONE .\n",
      "\n",
      "--> My MacBook is faster than any comparable PC .\n",
      "\n",
      "--> The food was DELICIOUS · one you got to it .\n",
      "\n"
     ]
    }
   ],
   "source": [
    "indexes_val = np.random.randint(0, len(df_train), size=N_SAMPLES)\n",
    "\n",
    "for sentence in df_train.iloc[indexes_val]['input'].values:\n",
    "    print(f'--> {sentence}', end='\\n\\n')"
   ]
  },
  {
   "cell_type": "code",
   "execution_count": 8,
   "id": "66a2f5bc-63f7-48c8-ba97-e8c1653ead57",
   "metadata": {},
   "outputs": [
    {
     "name": "stdout",
     "output_type": "stream",
     "text": [
      "--> This place is so much fun .\n",
      "\n",
      "--> The crispy chicken was n't for us , though .\n",
      "\n",
      "--> Try ordering from the regular menu , then you would not regret !\n",
      "\n",
      "--> It 's a great place to pick up a cheap lunch or dinner .\n",
      "\n",
      "--> The place is a lot of fun .\n",
      "\n"
     ]
    }
   ],
   "source": [
    "indexes_val = np.random.randint(0, len(df_val), size=N_SAMPLES)\n",
    "\n",
    "for sentence in df_val.iloc[indexes_val]['input'].values:\n",
    "    print(f'--> {sentence}', end='\\n\\n')"
   ]
  },
  {
   "cell_type": "markdown",
   "id": "96c74632-87ef-4481-b59b-2a052942a08c",
   "metadata": {},
   "source": [
    "Além disso, por segurança vamos verificar se há linhas sem registro:"
   ]
  },
  {
   "cell_type": "code",
   "execution_count": 9,
   "id": "c6bd6979-aa79-4c43-8c61-50292f9a3018",
   "metadata": {},
   "outputs": [
    {
     "data": {
      "text/plain": [
       "(input    0\n",
       " dtype: int64,\n",
       " input    0\n",
       " dtype: int64)"
      ]
     },
     "execution_count": 9,
     "metadata": {},
     "output_type": "execute_result"
    }
   ],
   "source": [
    "df_train.isnull().sum(), df_val.isnull().sum()"
   ]
  },
  {
   "cell_type": "markdown",
   "id": "d1a7c717-8f7a-4a70-a6b2-a0105c92d8b9",
   "metadata": {},
   "source": [
    "Com base em algumas amostras geradas acima, pode-se verificar que apesar da base de treino possuir sentenças fora do contexto de avaliação de restaurante, todas as frases contidas na base de validação aparentam ser deste contexto. Devido ao prazo apertado, tentaremos, inicialmente, gerar os targets com base nesta base e, caso os resultados visualizados na base de validação não sejam satisfatórios, tentaremos usar alguma técnica para filtrar a base de treino para conter mais frases do contexto de avaliação de restaurantes. Destaca-se também que como não fora visualizado nenhum erro que possa interferir no processo de definição dos targets, não realizaremos nenhum pré-processamento no texto apriori."
   ]
  },
  {
   "cell_type": "markdown",
   "id": "f2046596-0fc8-4d28-8bec-4d48afed5ee9",
   "metadata": {},
   "source": [
    "Por fim, como pontuações e espaços podem atrapalhar no processo de treinamento (próxima etapa), vamos remover a pontuação da nossa base e remover espaços a mais."
   ]
  },
  {
   "cell_type": "code",
   "execution_count": 18,
   "id": "a9b27351-070a-44cb-8094-fb37935b119c",
   "metadata": {},
   "outputs": [
    {
     "data": {
      "text/html": [
       "<div>\n",
       "<style scoped>\n",
       "    .dataframe tbody tr th:only-of-type {\n",
       "        vertical-align: middle;\n",
       "    }\n",
       "\n",
       "    .dataframe tbody tr th {\n",
       "        vertical-align: top;\n",
       "    }\n",
       "\n",
       "    .dataframe thead th {\n",
       "        text-align: right;\n",
       "    }\n",
       "</style>\n",
       "<table border=\"1\" class=\"dataframe\">\n",
       "  <thead>\n",
       "    <tr style=\"text-align: right;\">\n",
       "      <th></th>\n",
       "      <th>input</th>\n",
       "    </tr>\n",
       "  </thead>\n",
       "  <tbody>\n",
       "    <tr>\n",
       "      <th>0</th>\n",
       "      <td>judging from previous posts this used to be a good place but not any longer</td>\n",
       "    </tr>\n",
       "    <tr>\n",
       "      <th>1</th>\n",
       "      <td>we there were four of us arrived at noon the place was empty and the staff acted like we were imposing on them and they w...</td>\n",
       "    </tr>\n",
       "    <tr>\n",
       "      <th>2</th>\n",
       "      <td>they never brought us complimentary noodles ignored repeated requests for sugar and threw our dishes on the table</td>\n",
       "    </tr>\n",
       "    <tr>\n",
       "      <th>3</th>\n",
       "      <td>the food was lousy too sweet or too salty and the portions tiny</td>\n",
       "    </tr>\n",
       "    <tr>\n",
       "      <th>4</th>\n",
       "      <td>after all that they complained to me about the small tip</td>\n",
       "    </tr>\n",
       "    <tr>\n",
       "      <th>...</th>\n",
       "      <td>...</td>\n",
       "    </tr>\n",
       "    <tr>\n",
       "      <th>8860</th>\n",
       "      <td>outstanding bagels but you get what you pay for</td>\n",
       "    </tr>\n",
       "    <tr>\n",
       "      <th>8861</th>\n",
       "      <td>the sides were ok and incredibly salty</td>\n",
       "    </tr>\n",
       "    <tr>\n",
       "      <th>8862</th>\n",
       "      <td>while the menu is nt especially groundbreaking everything i ve tried so far has been wellexecuted and tasty</td>\n",
       "    </tr>\n",
       "    <tr>\n",
       "      <th>8863</th>\n",
       "      <td>it s just ok pizza</td>\n",
       "    </tr>\n",
       "    <tr>\n",
       "      <th>8864</th>\n",
       "      <td>but the coconut rice was good</td>\n",
       "    </tr>\n",
       "  </tbody>\n",
       "</table>\n",
       "<p>8865 rows × 1 columns</p>\n",
       "</div>"
      ],
      "text/plain": [
       "                                                                                                                             input\n",
       "0                                                      judging from previous posts this used to be a good place but not any longer\n",
       "1     we there were four of us arrived at noon the place was empty and the staff acted like we were imposing on them and they w...\n",
       "2                they never brought us complimentary noodles ignored repeated requests for sugar and threw our dishes on the table\n",
       "3                                                                  the food was lousy too sweet or too salty and the portions tiny\n",
       "4                                                                         after all that they complained to me about the small tip\n",
       "...                                                                                                                            ...\n",
       "8860                                                                               outstanding bagels but you get what you pay for\n",
       "8861                                                                                        the sides were ok and incredibly salty\n",
       "8862                   while the menu is nt especially groundbreaking everything i ve tried so far has been wellexecuted and tasty\n",
       "8863                                                                                                            it s just ok pizza\n",
       "8864                                                                                                 but the coconut rice was good\n",
       "\n",
       "[8865 rows x 1 columns]"
      ]
     },
     "execution_count": 18,
     "metadata": {},
     "output_type": "execute_result"
    }
   ],
   "source": [
    "df_train['input'] = df_train['input'].apply(lambda f: re.sub('\\s\\s+' , ' ', (re.sub(r'[^\\w\\s]', '', f).strip().lower())))\n",
    "df_train.dropna(inplace=True)\n",
    "df_train"
   ]
  },
  {
   "cell_type": "markdown",
   "id": "68db87ed-27a1-496e-ae26-75b6cf476596",
   "metadata": {},
   "source": [
    "## Scripts"
   ]
  },
  {
   "cell_type": "markdown",
   "id": "88ed2b01-bc25-468c-b861-6a95e93e2e95",
   "metadata": {},
   "source": [
    "Para a criação dos targets, faremos alguns testes com alguns modelos da HuggingFace já pré-treinados, sendo eles :\n",
    "\n",
    "- MODELO 1: [cardiffnlp/twitter-roberta-base-sentiment](https://huggingface.co/cardiffnlp/twitter-roberta-base-sentiment)- Treinado com base em ~58M de tweets, nos retorna 3 possíveis classes: 0 - Negativo, 1 - Neutro e 2 - Positivo.  \n",
    "- MODELO 2: [nlptown/bert-base-multilingual-uncased-sentiment](https://huggingface.co/nlptown/bert-base-multilingual-uncased-sentiment) - Treinado em 5 línguas diferentes (incluindo o inglês), nos retorna o número de estrelas referente ao sentimento, sendo 1 o pior e 5 o melhor.\n",
    "<!-- - [SamLowe/roberta-base-go_emotions](https://huggingface.co/SamLowe/roberta-base-go_emotions) - TODO -->\n",
    "\n",
    "A seleção destes modelos levaram em conta, principalmente, a sua popularidade e avaliações de acordo com um [artigo publicado pela HuggingFace](https://huggingface.co/blog/sentiment-analysis-python)."
   ]
  },
  {
   "cell_type": "markdown",
   "id": "0f3c53cd-808e-40f5-a6f0-92108819c97a",
   "metadata": {},
   "source": [
    "Para escolhermos o melhor modelo, iremos realizar a inferência em toda base de treino e, em seguida, iremos visualizar onde obtivemos divergência entre os resultados e, nestes casos, validaremos manualmente qual foi o melhor. Para tal, faz-se necessário estabelecer uma equivalência entre os resultados:\n",
    "\n",
    "|CLASSE EQUIVALENTE|CLASSE ACRÔNIMO|MODELO 1| MODELO 2|\n",
    "|---|---|---|---|\n",
    "|Negativo|NEG|0|1,00 a 2,33 estrelas|\n",
    "|Neutro|NEU|1|2,34 a 3,66 estrelas|\n",
    "|Positivo|POS|2|3,67 a 5,00 estrelas|"
   ]
  },
  {
   "cell_type": "markdown",
   "id": "cdf1f748-3a28-4afc-b5cc-d4b390c1b177",
   "metadata": {},
   "source": [
    "Como ambos os modelos são da HuggingFace, vamos construir uma classe padrão para facilitar na hora de realizar a inferência:"
   ]
  },
  {
   "cell_type": "code",
   "execution_count": 19,
   "id": "00ca0fd3-fc64-4059-ac5c-5fd8cd69e8e4",
   "metadata": {},
   "outputs": [],
   "source": [
    "class HuggingFaceLLM:\n",
    "    def __init__(self, model_ref, classes_map):\n",
    "        self.__set_tokenizer(model_ref)\n",
    "        self.__set_model(model_ref)\n",
    "        self.__set_classes_map(classes_map)\n",
    "\n",
    "    def __set_tokenizer(self, model_ref):\n",
    "        try:\n",
    "            tokenizer = AutoTokenizer.from_pretrained(f'../models/hf/{model_ref}')\n",
    "        except:\n",
    "            tokenizer = AutoTokenizer.from_pretrained(model_ref)\n",
    "            tokenizer.save_pretrained(f'../models/hf/{model_ref}')\n",
    "        \n",
    "        self.__tokenizer = tokenizer \n",
    "\n",
    "    \n",
    "    def __set_model(self, model_ref):\n",
    "        try:\n",
    "            model = AutoModelForSequenceClassification.from_pretrained(f'../models/hf/{model_ref}')\n",
    "        except:\n",
    "            model = AutoModelForSequenceClassification.from_pretrained(model_ref)\n",
    "            model.save_pretrained(f'../models/hf/{model_ref}')\n",
    "\n",
    "        self.__model = model\n",
    "\n",
    "\n",
    "    def __set_classes_map(self, classes_map):  # Apenas para manter o padrão\n",
    "        self.__classes_map = classes_map\n",
    "\n",
    "    \n",
    "    def predict_scores(self, input_text):\n",
    "        encoded_input = self.__tokenizer(input_text, return_tensors='pt')\n",
    "        output = self.__model(**encoded_input)\n",
    "        scores = output[0][0].detach().numpy()\n",
    "        scores = softmax(scores)\n",
    "\n",
    "        return scores\n",
    "\n",
    "\n",
    "    def predict_target(self, input_text):\n",
    "        scores = self.predict_scores(input_text)\n",
    "        target = np.argmax(scores)\n",
    "        \n",
    "        return target\n",
    "\n",
    "    \n",
    "    def predict_class(self, input_text):\n",
    "        scores = self.predict_scores(input_text)\n",
    "        pred_class = self.__classes_map(scores)\n",
    "\n",
    "        return pred_class"
   ]
  },
  {
   "cell_type": "markdown",
   "id": "63b76128-3a39-4ebb-86dc-cb10ba6ffd02",
   "metadata": {},
   "source": [
    "### Modelo 1 - cardiffnlp/twitter-roberta-base-sentiment\n",
    "\n",
    "Primeiramente, vamos verificar um resultado com o modelo e em seguida vamos aplicá-lo a toda base. O procedimento aqui utilizado foi baseado no exemplo utilizado pelo autor."
   ]
  },
  {
   "cell_type": "markdown",
   "id": "56511b1d-67ec-44e3-8201-a51b32d80558",
   "metadata": {},
   "source": [
    "#### Leitura do modelo\n",
    "\n",
    "Para a definição de nosso modelo, vamos precisar tanto do seu referencial (autor/modelo) quanto de uma função de mapeamento de scores para a classe desejada. "
   ]
  },
  {
   "cell_type": "code",
   "execution_count": 20,
   "id": "0654a8c0-7aaf-42d6-89cc-6db1e7e0a20b",
   "metadata": {},
   "outputs": [],
   "source": [
    "def model1_map(score): \n",
    "    target = np.argmax(score)\n",
    "\n",
    "    match target:\n",
    "        case 0:\n",
    "            return 'NEG'\n",
    "        \n",
    "        case 1: \n",
    "            return 'NEU'\n",
    "\n",
    "        case 2:\n",
    "            return 'POS'\n",
    "\n",
    "        case default:\n",
    "            raise Exception('Invalid target')\n",
    "\n",
    "\n",
    "model1_ref = \"cardiffnlp/twitter-roberta-base-sentiment\"\n",
    "\n",
    "model1 = HuggingFaceLLM(model1_ref, model1_map)"
   ]
  },
  {
   "cell_type": "markdown",
   "id": "17a736d8-8403-4759-92a9-c9cc02061e66",
   "metadata": {},
   "source": [
    "#### Testes do modelo com frases exemplo"
   ]
  },
  {
   "cell_type": "code",
   "execution_count": 21,
   "id": "3969b512-6029-4f0c-ad73-fc063804e237",
   "metadata": {},
   "outputs": [
    {
     "name": "stdout",
     "output_type": "stream",
     "text": [
      "This is terrific! -> POS ([0.0023162  0.01429832 0.9833855 ]\n",
      "To be honest, it's overrated -> NEG ([0.78642404 0.19143705 0.02213896]\n",
      "Nothing special -> NEU ([0.2822652  0.6492529  0.06848197]\n"
     ]
    }
   ],
   "source": [
    "for t in TEXTS_EX:\n",
    "    print(f'{t} -> {model1.predict_class(t)} ({model1.predict_scores(t)}')"
   ]
  },
  {
   "cell_type": "markdown",
   "id": "4cbaee6c-ab16-42a6-812f-da511fbfb74a",
   "metadata": {},
   "source": [
    "### Predizendo as classes da base"
   ]
  },
  {
   "cell_type": "markdown",
   "id": "439f4518-b3b7-4768-b36d-a675aa76d055",
   "metadata": {},
   "source": [
    "Exemplo de como podemos predizer usando apply:"
   ]
  },
  {
   "cell_type": "code",
   "execution_count": 22,
   "id": "1fb13f00-f200-4f55-aa58-0fced3606744",
   "metadata": {},
   "outputs": [
    {
     "data": {
      "application/vnd.jupyter.widget-view+json": {
       "model_id": "08aea853311647749c9d57f962245062",
       "version_major": 2,
       "version_minor": 0
      },
      "text/plain": [
       "  0%|          | 0/5 [00:00<?, ?it/s]"
      ]
     },
     "metadata": {},
     "output_type": "display_data"
    },
    {
     "name": "stdout",
     "output_type": "stream",
     "text": [
      "--> judging from previous posts this used to be a good place but not any longer (NEG)\n",
      "\n",
      "--> we there were four of us arrived at noon the place was empty and the staff acted like we were imposing on them and they were very rude (NEG)\n",
      "\n",
      "--> they never brought us complimentary noodles ignored repeated requests for sugar and threw our dishes on the table (NEG)\n",
      "\n",
      "--> the food was lousy too sweet or too salty and the portions tiny (NEG)\n",
      "\n",
      "--> after all that they complained to me about the small tip (NEG)\n",
      "\n"
     ]
    }
   ],
   "source": [
    "preds = df_train['input'].iloc[0:N_SAMPLES].progress_apply(lambda t: model1.predict_class(t))\n",
    "\n",
    "for i, p in enumerate(preds):\n",
    "    print(f'--> {df_train[\"input\"].iloc[i]} ({p})', end='\\n\\n')"
   ]
  },
  {
   "cell_type": "markdown",
   "id": "61b6aefc-9ae7-436e-b545-e0e594afbd95",
   "metadata": {},
   "source": [
    "Agora vamos aplicar a toda a base de treino:"
   ]
  },
  {
   "cell_type": "code",
   "execution_count": 23,
   "id": "759445a2-3968-4b52-84ab-98830f15a6fe",
   "metadata": {},
   "outputs": [
    {
     "data": {
      "application/vnd.jupyter.widget-view+json": {
       "model_id": "3c05dff2e0714006866f113fa78763e8",
       "version_major": 2,
       "version_minor": 0
      },
      "text/plain": [
       "  0%|          | 0/8865 [00:00<?, ?it/s]"
      ]
     },
     "metadata": {},
     "output_type": "display_data"
    },
    {
     "data": {
      "text/html": [
       "<div>\n",
       "<style scoped>\n",
       "    .dataframe tbody tr th:only-of-type {\n",
       "        vertical-align: middle;\n",
       "    }\n",
       "\n",
       "    .dataframe tbody tr th {\n",
       "        vertical-align: top;\n",
       "    }\n",
       "\n",
       "    .dataframe thead th {\n",
       "        text-align: right;\n",
       "    }\n",
       "</style>\n",
       "<table border=\"1\" class=\"dataframe\">\n",
       "  <thead>\n",
       "    <tr style=\"text-align: right;\">\n",
       "      <th></th>\n",
       "      <th>input</th>\n",
       "      <th>class_model1</th>\n",
       "    </tr>\n",
       "  </thead>\n",
       "  <tbody>\n",
       "    <tr>\n",
       "      <th>8855</th>\n",
       "      <td>oh but wait we were out of drinks which were also delightfully overpriced</td>\n",
       "      <td>NEG</td>\n",
       "    </tr>\n",
       "    <tr>\n",
       "      <th>8856</th>\n",
       "      <td>since it literally is a complete hole in the wall it s a bit intimidating at first but you get over that very quickly as ...</td>\n",
       "      <td>POS</td>\n",
       "    </tr>\n",
       "    <tr>\n",
       "      <th>8857</th>\n",
       "      <td>it looked like shredded cheese partly done still in strips</td>\n",
       "      <td>NEU</td>\n",
       "    </tr>\n",
       "    <tr>\n",
       "      <th>8858</th>\n",
       "      <td>what generous portions</td>\n",
       "      <td>NEU</td>\n",
       "    </tr>\n",
       "    <tr>\n",
       "      <th>8859</th>\n",
       "      <td>warm comfortable surroundings nice appointments witness the etched glass and brickwork separating the dining rooms</td>\n",
       "      <td>POS</td>\n",
       "    </tr>\n",
       "    <tr>\n",
       "      <th>8860</th>\n",
       "      <td>outstanding bagels but you get what you pay for</td>\n",
       "      <td>POS</td>\n",
       "    </tr>\n",
       "    <tr>\n",
       "      <th>8861</th>\n",
       "      <td>the sides were ok and incredibly salty</td>\n",
       "      <td>NEU</td>\n",
       "    </tr>\n",
       "    <tr>\n",
       "      <th>8862</th>\n",
       "      <td>while the menu is nt especially groundbreaking everything i ve tried so far has been wellexecuted and tasty</td>\n",
       "      <td>POS</td>\n",
       "    </tr>\n",
       "    <tr>\n",
       "      <th>8863</th>\n",
       "      <td>it s just ok pizza</td>\n",
       "      <td>NEU</td>\n",
       "    </tr>\n",
       "    <tr>\n",
       "      <th>8864</th>\n",
       "      <td>but the coconut rice was good</td>\n",
       "      <td>POS</td>\n",
       "    </tr>\n",
       "  </tbody>\n",
       "</table>\n",
       "</div>"
      ],
      "text/plain": [
       "                                                                                                                             input  \\\n",
       "8855                                                     oh but wait we were out of drinks which were also delightfully overpriced   \n",
       "8856  since it literally is a complete hole in the wall it s a bit intimidating at first but you get over that very quickly as ...   \n",
       "8857                                                                    it looked like shredded cheese partly done still in strips   \n",
       "8858                                                                                                        what generous portions   \n",
       "8859            warm comfortable surroundings nice appointments witness the etched glass and brickwork separating the dining rooms   \n",
       "8860                                                                               outstanding bagels but you get what you pay for   \n",
       "8861                                                                                        the sides were ok and incredibly salty   \n",
       "8862                   while the menu is nt especially groundbreaking everything i ve tried so far has been wellexecuted and tasty   \n",
       "8863                                                                                                            it s just ok pizza   \n",
       "8864                                                                                                 but the coconut rice was good   \n",
       "\n",
       "     class_model1  \n",
       "8855          NEG  \n",
       "8856          POS  \n",
       "8857          NEU  \n",
       "8858          NEU  \n",
       "8859          POS  \n",
       "8860          POS  \n",
       "8861          NEU  \n",
       "8862          POS  \n",
       "8863          NEU  \n",
       "8864          POS  "
      ]
     },
     "execution_count": 23,
     "metadata": {},
     "output_type": "execute_result"
    }
   ],
   "source": [
    "df_train['class_model1'] = df_train['input'].progress_apply(lambda t: model1.predict_class(t))\n",
    "df_train.tail(10)"
   ]
  },
  {
   "cell_type": "markdown",
   "id": "5b145ce0-94dc-4e95-85ac-6511dc97c63b",
   "metadata": {},
   "source": [
    "### Modelo 2 - nlptown/bert-base-multilingual-uncased-sentiment\n",
    "\n",
    "Com os resultados preditos para o primeiro modelo, vamos realizar agora a predição para o segundo."
   ]
  },
  {
   "cell_type": "markdown",
   "id": "756e0248-d5c7-4fbb-a345-ace01271c343",
   "metadata": {},
   "source": [
    "#### Leitura do modelo\n",
    "\n",
    "Assim como anteriormente, vamos precisar passar o referncial do modelo e uma função de mapeamento score $\\rightarrow$ classe. Diferente do primeiro caso, o segundo modelo traz um output de 1 a 5. Conforme nossa tabela de equivalência, vamos criar uma função de mapeamento adequada."
   ]
  },
  {
   "cell_type": "code",
   "execution_count": 24,
   "id": "1899ad7a-9e1c-4f94-9038-9ef2a289650c",
   "metadata": {},
   "outputs": [],
   "source": [
    "def model2_map(score): \n",
    "    target = np.dot(score, [1, 2, 3, 4, 5])  # Equivalente a pegar um target ponderado pela probabilidade\n",
    "\n",
    "    if 1 <= target < 2.33: \n",
    "        return 'NEG'\n",
    "\n",
    "    elif 2.33 <= target < 3.66:\n",
    "        return 'NEU'\n",
    "\n",
    "    elif 3.66 <= target <= 5:\n",
    "        return 'POS'\n",
    "\n",
    "    raise Exception('Invalid target')\n",
    "\n",
    "\n",
    "model2_ref = \"nlptown/bert-base-multilingual-uncased-sentiment\"\n",
    "\n",
    "model2 = HuggingFaceLLM(model2_ref, model2_map)"
   ]
  },
  {
   "cell_type": "markdown",
   "id": "9aecfdf1-0747-4abd-8920-e75fb7dac220",
   "metadata": {},
   "source": [
    "#### Testes do modelo com frases exemplo"
   ]
  },
  {
   "cell_type": "code",
   "execution_count": 25,
   "id": "0dc7f760-cec0-4a13-bb35-d1dfc36b2295",
   "metadata": {},
   "outputs": [
    {
     "name": "stdout",
     "output_type": "stream",
     "text": [
      "This is terrific! -> POS ([0.00313067 0.00178067 0.008292   0.07177804 0.9150186 ])\n",
      "To be honest, it's overrated -> NEG ([0.20254053 0.471416   0.2968501  0.02402706 0.00516636])\n",
      "Nothing special -> NEG ([0.23077075 0.4229156  0.3145413  0.0264923  0.00527997])\n"
     ]
    }
   ],
   "source": [
    "for t in TEXTS_EX:\n",
    "    print(f'{t} -> {model2.predict_class(t)} ({model2.predict_scores(t)})')"
   ]
  },
  {
   "cell_type": "markdown",
   "id": "e338586a-3624-4331-8e21-cc393c49c3ea",
   "metadata": {},
   "source": [
    "### Predizendo as classes da base"
   ]
  },
  {
   "cell_type": "code",
   "execution_count": 26,
   "id": "0bcede54-a970-40a0-8bb1-4ff642608cb3",
   "metadata": {},
   "outputs": [
    {
     "data": {
      "application/vnd.jupyter.widget-view+json": {
       "model_id": "f13971e0e0ec48fcb89ed8c14c1314c0",
       "version_major": 2,
       "version_minor": 0
      },
      "text/plain": [
       "  0%|          | 0/5 [00:00<?, ?it/s]"
      ]
     },
     "metadata": {},
     "output_type": "display_data"
    },
    {
     "name": "stdout",
     "output_type": "stream",
     "text": [
      "--> judging from previous posts this used to be a good place but not any longer (NEU)\n",
      "\n",
      "--> we there were four of us arrived at noon the place was empty and the staff acted like we were imposing on them and they were very rude (NEG)\n",
      "\n",
      "--> they never brought us complimentary noodles ignored repeated requests for sugar and threw our dishes on the table (NEG)\n",
      "\n",
      "--> the food was lousy too sweet or too salty and the portions tiny (NEG)\n",
      "\n",
      "--> after all that they complained to me about the small tip (NEU)\n",
      "\n"
     ]
    }
   ],
   "source": [
    "preds = df_train['input'].iloc[0:N_SAMPLES].progress_apply(lambda t: model2.predict_class(t))\n",
    "\n",
    "for i, p in enumerate(preds):\n",
    "    print(f'--> {df_train[\"input\"].iloc[i]} ({p})', end='\\n\\n')"
   ]
  },
  {
   "cell_type": "code",
   "execution_count": 27,
   "id": "28e886d6-b329-4a6f-937d-7d86a195e3f0",
   "metadata": {},
   "outputs": [
    {
     "data": {
      "application/vnd.jupyter.widget-view+json": {
       "model_id": "9ab1ace66fc8402684321f95dd3d67dc",
       "version_major": 2,
       "version_minor": 0
      },
      "text/plain": [
       "  0%|          | 0/8865 [00:00<?, ?it/s]"
      ]
     },
     "metadata": {},
     "output_type": "display_data"
    },
    {
     "data": {
      "text/html": [
       "<div>\n",
       "<style scoped>\n",
       "    .dataframe tbody tr th:only-of-type {\n",
       "        vertical-align: middle;\n",
       "    }\n",
       "\n",
       "    .dataframe tbody tr th {\n",
       "        vertical-align: top;\n",
       "    }\n",
       "\n",
       "    .dataframe thead th {\n",
       "        text-align: right;\n",
       "    }\n",
       "</style>\n",
       "<table border=\"1\" class=\"dataframe\">\n",
       "  <thead>\n",
       "    <tr style=\"text-align: right;\">\n",
       "      <th></th>\n",
       "      <th>input</th>\n",
       "      <th>class_model1</th>\n",
       "      <th>class_model2</th>\n",
       "    </tr>\n",
       "  </thead>\n",
       "  <tbody>\n",
       "    <tr>\n",
       "      <th>8855</th>\n",
       "      <td>oh but wait we were out of drinks which were also delightfully overpriced</td>\n",
       "      <td>NEG</td>\n",
       "      <td>NEG</td>\n",
       "    </tr>\n",
       "    <tr>\n",
       "      <th>8856</th>\n",
       "      <td>since it literally is a complete hole in the wall it s a bit intimidating at first but you get over that very quickly as ...</td>\n",
       "      <td>POS</td>\n",
       "      <td>NEU</td>\n",
       "    </tr>\n",
       "    <tr>\n",
       "      <th>8857</th>\n",
       "      <td>it looked like shredded cheese partly done still in strips</td>\n",
       "      <td>NEU</td>\n",
       "      <td>NEG</td>\n",
       "    </tr>\n",
       "    <tr>\n",
       "      <th>8858</th>\n",
       "      <td>what generous portions</td>\n",
       "      <td>NEU</td>\n",
       "      <td>NEU</td>\n",
       "    </tr>\n",
       "    <tr>\n",
       "      <th>8859</th>\n",
       "      <td>warm comfortable surroundings nice appointments witness the etched glass and brickwork separating the dining rooms</td>\n",
       "      <td>POS</td>\n",
       "      <td>POS</td>\n",
       "    </tr>\n",
       "    <tr>\n",
       "      <th>8860</th>\n",
       "      <td>outstanding bagels but you get what you pay for</td>\n",
       "      <td>POS</td>\n",
       "      <td>POS</td>\n",
       "    </tr>\n",
       "    <tr>\n",
       "      <th>8861</th>\n",
       "      <td>the sides were ok and incredibly salty</td>\n",
       "      <td>NEU</td>\n",
       "      <td>NEU</td>\n",
       "    </tr>\n",
       "    <tr>\n",
       "      <th>8862</th>\n",
       "      <td>while the menu is nt especially groundbreaking everything i ve tried so far has been wellexecuted and tasty</td>\n",
       "      <td>POS</td>\n",
       "      <td>NEU</td>\n",
       "    </tr>\n",
       "    <tr>\n",
       "      <th>8863</th>\n",
       "      <td>it s just ok pizza</td>\n",
       "      <td>NEU</td>\n",
       "      <td>NEU</td>\n",
       "    </tr>\n",
       "    <tr>\n",
       "      <th>8864</th>\n",
       "      <td>but the coconut rice was good</td>\n",
       "      <td>POS</td>\n",
       "      <td>NEU</td>\n",
       "    </tr>\n",
       "  </tbody>\n",
       "</table>\n",
       "</div>"
      ],
      "text/plain": [
       "                                                                                                                             input  \\\n",
       "8855                                                     oh but wait we were out of drinks which were also delightfully overpriced   \n",
       "8856  since it literally is a complete hole in the wall it s a bit intimidating at first but you get over that very quickly as ...   \n",
       "8857                                                                    it looked like shredded cheese partly done still in strips   \n",
       "8858                                                                                                        what generous portions   \n",
       "8859            warm comfortable surroundings nice appointments witness the etched glass and brickwork separating the dining rooms   \n",
       "8860                                                                               outstanding bagels but you get what you pay for   \n",
       "8861                                                                                        the sides were ok and incredibly salty   \n",
       "8862                   while the menu is nt especially groundbreaking everything i ve tried so far has been wellexecuted and tasty   \n",
       "8863                                                                                                            it s just ok pizza   \n",
       "8864                                                                                                 but the coconut rice was good   \n",
       "\n",
       "     class_model1 class_model2  \n",
       "8855          NEG          NEG  \n",
       "8856          POS          NEU  \n",
       "8857          NEU          NEG  \n",
       "8858          NEU          NEU  \n",
       "8859          POS          POS  \n",
       "8860          POS          POS  \n",
       "8861          NEU          NEU  \n",
       "8862          POS          NEU  \n",
       "8863          NEU          NEU  \n",
       "8864          POS          NEU  "
      ]
     },
     "execution_count": 27,
     "metadata": {},
     "output_type": "execute_result"
    }
   ],
   "source": [
    "df_train['class_model2'] = df_train['input'].progress_apply(lambda t: model2.predict_class(t))\n",
    "df_train.tail(10)"
   ]
  },
  {
   "cell_type": "markdown",
   "id": "3a24923a-2b80-4278-86fc-09d3d2c5fb3a",
   "metadata": {},
   "source": [
    "### Validação do resultado e seleção do melhor estimador\n",
    "\n",
    "Para essa tarefa, vamos ver em quantos casos os modelos previram igualmente as classes em quantas não. Para essas, escolheremos algumas amostras e faremos uma análise manual para, então, definiremos o melhor estimador e exportaremos a nova base de treino (com targets) considerando o melhor modelo."
   ]
  },
  {
   "cell_type": "code",
   "execution_count": 28,
   "id": "60d705e2-6453-4fd2-a506-01598cd6df4c",
   "metadata": {},
   "outputs": [
    {
     "data": {
      "text/plain": [
       "class_model1\n",
       "POS    4393\n",
       "NEU    2436\n",
       "NEG    2036\n",
       "Name: count, dtype: int64"
      ]
     },
     "execution_count": 28,
     "metadata": {},
     "output_type": "execute_result"
    }
   ],
   "source": [
    "df_train['class_model1'].value_counts()"
   ]
  },
  {
   "cell_type": "code",
   "execution_count": 29,
   "id": "0efd5ab8-65ed-40e2-8d21-4ee5bb45d72e",
   "metadata": {},
   "outputs": [
    {
     "data": {
      "text/plain": [
       "class_model2\n",
       "POS    4121\n",
       "NEU    2779\n",
       "NEG    1965\n",
       "Name: count, dtype: int64"
      ]
     },
     "execution_count": 29,
     "metadata": {},
     "output_type": "execute_result"
    }
   ],
   "source": [
    "df_train['class_model2'].value_counts()"
   ]
  },
  {
   "cell_type": "code",
   "execution_count": 30,
   "id": "15602415-c1a7-471e-966a-c156cab1cffa",
   "metadata": {},
   "outputs": [
    {
     "data": {
      "text/plain": [
       "True     0.693627\n",
       "False    0.306373\n",
       "Name: proportion, dtype: float64"
      ]
     },
     "execution_count": 30,
     "metadata": {},
     "output_type": "execute_result"
    }
   ],
   "source": [
    "(df_train['class_model1'] == df_train['class_model2']).value_counts(normalize=True)"
   ]
  },
  {
   "cell_type": "code",
   "execution_count": 31,
   "id": "594ef5a0-c2ec-4dd5-be7e-3ef30403fb64",
   "metadata": {},
   "outputs": [
    {
     "data": {
      "text/html": [
       "<div>\n",
       "<style scoped>\n",
       "    .dataframe tbody tr th:only-of-type {\n",
       "        vertical-align: middle;\n",
       "    }\n",
       "\n",
       "    .dataframe tbody tr th {\n",
       "        vertical-align: top;\n",
       "    }\n",
       "\n",
       "    .dataframe thead th {\n",
       "        text-align: right;\n",
       "    }\n",
       "</style>\n",
       "<table border=\"1\" class=\"dataframe\">\n",
       "  <thead>\n",
       "    <tr style=\"text-align: right;\">\n",
       "      <th></th>\n",
       "      <th>input</th>\n",
       "      <th>class_model1</th>\n",
       "      <th>class_model2</th>\n",
       "    </tr>\n",
       "  </thead>\n",
       "  <tbody>\n",
       "    <tr>\n",
       "      <th>8332</th>\n",
       "      <td>the machine itself is alright</td>\n",
       "      <td>POS</td>\n",
       "      <td>NEU</td>\n",
       "    </tr>\n",
       "    <tr>\n",
       "      <th>2373</th>\n",
       "      <td>service was quick</td>\n",
       "      <td>NEU</td>\n",
       "      <td>POS</td>\n",
       "    </tr>\n",
       "    <tr>\n",
       "      <th>6417</th>\n",
       "      <td>of course i inspected the other netbooks and clearly their hinges are tighter and i even demonstrate the difference betwe...</td>\n",
       "      <td>NEU</td>\n",
       "      <td>POS</td>\n",
       "    </tr>\n",
       "    <tr>\n",
       "      <th>5563</th>\n",
       "      <td>we hade a bigger room with a place to relax and sit down</td>\n",
       "      <td>POS</td>\n",
       "      <td>NEU</td>\n",
       "    </tr>\n",
       "    <tr>\n",
       "      <th>5471</th>\n",
       "      <td>european people mostly english and german speaking only few russian and polish middle age</td>\n",
       "      <td>NEU</td>\n",
       "      <td>NEG</td>\n",
       "    </tr>\n",
       "    <tr>\n",
       "      <th>6571</th>\n",
       "      <td>we carry the netbook around here and there hence it s kinda of irritating when the lcd just slide downwards</td>\n",
       "      <td>NEG</td>\n",
       "      <td>NEU</td>\n",
       "    </tr>\n",
       "    <tr>\n",
       "      <th>7931</th>\n",
       "      <td>it would nt fit in most 17inch bags</td>\n",
       "      <td>NEG</td>\n",
       "      <td>NEU</td>\n",
       "    </tr>\n",
       "    <tr>\n",
       "      <th>64</th>\n",
       "      <td>once you step into cosette you re miraculously in a small off the beaten path parisian bistro</td>\n",
       "      <td>POS</td>\n",
       "      <td>NEU</td>\n",
       "    </tr>\n",
       "    <tr>\n",
       "      <th>8377</th>\n",
       "      <td>really no problems with the hand me down computers i received from my children</td>\n",
       "      <td>NEU</td>\n",
       "      <td>POS</td>\n",
       "    </tr>\n",
       "    <tr>\n",
       "      <th>8439</th>\n",
       "      <td>buyers beware</td>\n",
       "      <td>NEU</td>\n",
       "      <td>NEG</td>\n",
       "    </tr>\n",
       "  </tbody>\n",
       "</table>\n",
       "</div>"
      ],
      "text/plain": [
       "                                                                                                                             input  \\\n",
       "8332                                                                                                 the machine itself is alright   \n",
       "2373                                                                                                             service was quick   \n",
       "6417  of course i inspected the other netbooks and clearly their hinges are tighter and i even demonstrate the difference betwe...   \n",
       "5563                                                                      we hade a bigger room with a place to relax and sit down   \n",
       "5471                                     european people mostly english and german speaking only few russian and polish middle age   \n",
       "6571                   we carry the netbook around here and there hence it s kinda of irritating when the lcd just slide downwards   \n",
       "7931                                                                                           it would nt fit in most 17inch bags   \n",
       "64                                   once you step into cosette you re miraculously in a small off the beaten path parisian bistro   \n",
       "8377                                                really no problems with the hand me down computers i received from my children   \n",
       "8439                                                                                                                 buyers beware   \n",
       "\n",
       "     class_model1 class_model2  \n",
       "8332          POS          NEU  \n",
       "2373          NEU          POS  \n",
       "6417          NEU          POS  \n",
       "5563          POS          NEU  \n",
       "5471          NEU          NEG  \n",
       "6571          NEG          NEU  \n",
       "7931          NEG          NEU  \n",
       "64            POS          NEU  \n",
       "8377          NEU          POS  \n",
       "8439          NEU          NEG  "
      ]
     },
     "execution_count": 31,
     "metadata": {},
     "output_type": "execute_result"
    }
   ],
   "source": [
    "df_train_diff = df_train[df_train['class_model1'] != df_train['class_model2']]\n",
    "\n",
    "df_train_diff.iloc[np.random.randint(0, len(df_train_diff), 10)]"
   ]
  },
  {
   "cell_type": "markdown",
   "id": "008c56b1-198f-4da0-ba06-ccd88b659581",
   "metadata": {},
   "source": [
    "Para os diversos casos analisados, verificou-se, no geral, que a acurácia dos modelos são equivalentes, nos impossibilitando de tirar uma conclusão precipitada por meio desta análise superficial. Todavia, iremos considerar que o primeiro modelo é o melhor dentre os dois e, se os resultados visualizados nas etapas finais não forem satisfatórios, podemos fazer um segundo teste com o outro modelo.\n",
    "\n",
    "Além disso, como na etapa de treinamento do modelo de classificação nós precisamos usar valores numéricos, já iremos converter as classes para os seus respectivos números:"
   ]
  },
  {
   "cell_type": "code",
   "execution_count": 32,
   "id": "319befe5-6af4-48c2-97cb-1300b73ca77c",
   "metadata": {},
   "outputs": [
    {
     "data": {
      "text/html": [
       "<div>\n",
       "<style scoped>\n",
       "    .dataframe tbody tr th:only-of-type {\n",
       "        vertical-align: middle;\n",
       "    }\n",
       "\n",
       "    .dataframe tbody tr th {\n",
       "        vertical-align: top;\n",
       "    }\n",
       "\n",
       "    .dataframe thead th {\n",
       "        text-align: right;\n",
       "    }\n",
       "</style>\n",
       "<table border=\"1\" class=\"dataframe\">\n",
       "  <thead>\n",
       "    <tr style=\"text-align: right;\">\n",
       "      <th></th>\n",
       "      <th>input</th>\n",
       "      <th>class</th>\n",
       "    </tr>\n",
       "  </thead>\n",
       "  <tbody>\n",
       "    <tr>\n",
       "      <th>0</th>\n",
       "      <td>judging from previous posts this used to be a good place but not any longer</td>\n",
       "      <td>0</td>\n",
       "    </tr>\n",
       "    <tr>\n",
       "      <th>1</th>\n",
       "      <td>we there were four of us arrived at noon the place was empty and the staff acted like we were imposing on them and they w...</td>\n",
       "      <td>0</td>\n",
       "    </tr>\n",
       "    <tr>\n",
       "      <th>2</th>\n",
       "      <td>they never brought us complimentary noodles ignored repeated requests for sugar and threw our dishes on the table</td>\n",
       "      <td>0</td>\n",
       "    </tr>\n",
       "    <tr>\n",
       "      <th>3</th>\n",
       "      <td>the food was lousy too sweet or too salty and the portions tiny</td>\n",
       "      <td>0</td>\n",
       "    </tr>\n",
       "    <tr>\n",
       "      <th>4</th>\n",
       "      <td>after all that they complained to me about the small tip</td>\n",
       "      <td>0</td>\n",
       "    </tr>\n",
       "    <tr>\n",
       "      <th>...</th>\n",
       "      <td>...</td>\n",
       "      <td>...</td>\n",
       "    </tr>\n",
       "    <tr>\n",
       "      <th>8860</th>\n",
       "      <td>outstanding bagels but you get what you pay for</td>\n",
       "      <td>2</td>\n",
       "    </tr>\n",
       "    <tr>\n",
       "      <th>8861</th>\n",
       "      <td>the sides were ok and incredibly salty</td>\n",
       "      <td>1</td>\n",
       "    </tr>\n",
       "    <tr>\n",
       "      <th>8862</th>\n",
       "      <td>while the menu is nt especially groundbreaking everything i ve tried so far has been wellexecuted and tasty</td>\n",
       "      <td>2</td>\n",
       "    </tr>\n",
       "    <tr>\n",
       "      <th>8863</th>\n",
       "      <td>it s just ok pizza</td>\n",
       "      <td>1</td>\n",
       "    </tr>\n",
       "    <tr>\n",
       "      <th>8864</th>\n",
       "      <td>but the coconut rice was good</td>\n",
       "      <td>2</td>\n",
       "    </tr>\n",
       "  </tbody>\n",
       "</table>\n",
       "<p>8865 rows × 2 columns</p>\n",
       "</div>"
      ],
      "text/plain": [
       "                                                                                                                             input  \\\n",
       "0                                                      judging from previous posts this used to be a good place but not any longer   \n",
       "1     we there were four of us arrived at noon the place was empty and the staff acted like we were imposing on them and they w...   \n",
       "2                they never brought us complimentary noodles ignored repeated requests for sugar and threw our dishes on the table   \n",
       "3                                                                  the food was lousy too sweet or too salty and the portions tiny   \n",
       "4                                                                         after all that they complained to me about the small tip   \n",
       "...                                                                                                                            ...   \n",
       "8860                                                                               outstanding bagels but you get what you pay for   \n",
       "8861                                                                                        the sides were ok and incredibly salty   \n",
       "8862                   while the menu is nt especially groundbreaking everything i ve tried so far has been wellexecuted and tasty   \n",
       "8863                                                                                                            it s just ok pizza   \n",
       "8864                                                                                                 but the coconut rice was good   \n",
       "\n",
       "      class  \n",
       "0         0  \n",
       "1         0  \n",
       "2         0  \n",
       "3         0  \n",
       "4         0  \n",
       "...     ...  \n",
       "8860      2  \n",
       "8861      1  \n",
       "8862      2  \n",
       "8863      1  \n",
       "8864      2  \n",
       "\n",
       "[8865 rows x 2 columns]"
      ]
     },
     "execution_count": 32,
     "metadata": {},
     "output_type": "execute_result"
    }
   ],
   "source": [
    "classes_dict = {\n",
    "    'NEG': 0,\n",
    "    'NEU': 1,\n",
    "    'POS': 2\n",
    "}\n",
    "\n",
    "with open('../data/classes_dict.pkl', 'wb') as file:\n",
    "    pkl.dump(classes_dict, file)\n",
    "\n",
    "# Para modelo 1\n",
    "df_train_exp = df_train.drop(columns=['class_model2']).rename(columns={'class_model1': 'class'})\n",
    "df_train_exp['class'] = df_train_exp['class'].map(classes_dict)\n",
    "\n",
    "# Para modelo 2 - descomentar se necessário mudar\n",
    "# df_train_exp = df_train.drop(columns=['class_model1']).rename(columns={'class_model2': 'class'})\n",
    "# df_train_exp['class'] = df_train_exp['class'].map(classes_dict)\n",
    "\n",
    "df_train_exp.dropna().to_csv('../data/dataset_train_wclass.csv', index=False)  # Apenas por segurança\n",
    "\n",
    "df_train_exp"
   ]
  },
  {
   "cell_type": "markdown",
   "id": "123c7a98-11bf-45e8-82fe-d58b53b19323",
   "metadata": {},
   "source": [
    "**Obs**: Note que a extração de features, balanceamento de classes e etc. serão feitas no processo de treinamento pois dependendo do algoritmo utilizado podemos ter melhoras ou pioras."
   ]
  },
  {
   "cell_type": "markdown",
   "id": "36ce4cf3-8e44-42df-8de9-7cfb5266d385",
   "metadata": {},
   "source": [
    "### Limpeza na base de validação"
   ]
  },
  {
   "cell_type": "markdown",
   "id": "0e620801-c6ea-41e6-bfb0-e1a15298748e",
   "metadata": {},
   "source": [
    "Por fim, vamos limpar a base de validação para facilitar o processo futuro."
   ]
  },
  {
   "cell_type": "code",
   "execution_count": 8,
   "id": "944c2e9a-ec67-47d7-bc39-a3d38dea291c",
   "metadata": {},
   "outputs": [
    {
     "data": {
      "text/html": [
       "<div>\n",
       "<style scoped>\n",
       "    .dataframe tbody tr th:only-of-type {\n",
       "        vertical-align: middle;\n",
       "    }\n",
       "\n",
       "    .dataframe tbody tr th {\n",
       "        vertical-align: top;\n",
       "    }\n",
       "\n",
       "    .dataframe thead th {\n",
       "        text-align: right;\n",
       "    }\n",
       "</style>\n",
       "<table border=\"1\" class=\"dataframe\">\n",
       "  <thead>\n",
       "    <tr style=\"text-align: right;\">\n",
       "      <th></th>\n",
       "      <th>input</th>\n",
       "    </tr>\n",
       "  </thead>\n",
       "  <tbody>\n",
       "    <tr>\n",
       "      <th>0</th>\n",
       "      <td>the pizza was really good</td>\n",
       "    </tr>\n",
       "    <tr>\n",
       "      <th>1</th>\n",
       "      <td>knowledge of the chef and the waitress are below average</td>\n",
       "    </tr>\n",
       "    <tr>\n",
       "      <th>2</th>\n",
       "      <td>the service was ok</td>\n",
       "    </tr>\n",
       "    <tr>\n",
       "      <th>3</th>\n",
       "      <td>i m happy to have nosh in the neighborhood and the food is very comforting</td>\n",
       "    </tr>\n",
       "    <tr>\n",
       "      <th>4</th>\n",
       "      <td>indoor was very cozy and cute</td>\n",
       "    </tr>\n",
       "    <tr>\n",
       "      <th>...</th>\n",
       "      <td>...</td>\n",
       "    </tr>\n",
       "    <tr>\n",
       "      <th>2212</th>\n",
       "      <td>i wish they had one near my office i would go everyday</td>\n",
       "    </tr>\n",
       "    <tr>\n",
       "      <th>2213</th>\n",
       "      <td>however i do not understand the extraordinary hype about this restaurant</td>\n",
       "    </tr>\n",
       "    <tr>\n",
       "      <th>2214</th>\n",
       "      <td>i do nt get it what s so special about prune</td>\n",
       "    </tr>\n",
       "    <tr>\n",
       "      <th>2215</th>\n",
       "      <td>one less manhattanite the better</td>\n",
       "    </tr>\n",
       "    <tr>\n",
       "      <th>2216</th>\n",
       "      <td>judging from previous posts this used to be a good place but not any longer</td>\n",
       "    </tr>\n",
       "  </tbody>\n",
       "</table>\n",
       "<p>2217 rows × 1 columns</p>\n",
       "</div>"
      ],
      "text/plain": [
       "                                                                            input\n",
       "0                                                       the pizza was really good\n",
       "1                        knowledge of the chef and the waitress are below average\n",
       "2                                                              the service was ok\n",
       "3      i m happy to have nosh in the neighborhood and the food is very comforting\n",
       "4                                                   indoor was very cozy and cute\n",
       "...                                                                           ...\n",
       "2212                       i wish they had one near my office i would go everyday\n",
       "2213     however i do not understand the extraordinary hype about this restaurant\n",
       "2214                                 i do nt get it what s so special about prune\n",
       "2215                                             one less manhattanite the better\n",
       "2216  judging from previous posts this used to be a good place but not any longer\n",
       "\n",
       "[2217 rows x 1 columns]"
      ]
     },
     "execution_count": 8,
     "metadata": {},
     "output_type": "execute_result"
    }
   ],
   "source": [
    "df_val['input'] = df_val['input'].apply(lambda f: re.sub('\\s\\s+' , ' ', (re.sub(r'[^\\w\\s]', '', f).strip().lower())))\n",
    "df_val.dropna(inplace=True)\n",
    "df_val.dropna().to_csv('../data/dataset_valid_cleaned.csv', index=False)  # Apenas por segurança\n",
    "df_val"
   ]
  }
 ],
 "metadata": {
  "kernelspec": {
   "display_name": "Python 3 (ipykernel)",
   "language": "python",
   "name": "python3"
  },
  "language_info": {
   "codemirror_mode": {
    "name": "ipython",
    "version": 3
   },
   "file_extension": ".py",
   "mimetype": "text/x-python",
   "name": "python",
   "nbconvert_exporter": "python",
   "pygments_lexer": "ipython3",
   "version": "3.10.0"
  }
 },
 "nbformat": 4,
 "nbformat_minor": 5
}
